{
 "cells": [
  {
   "cell_type": "markdown",
   "metadata": {},
   "source": [
    "Bismilla Hirrahmanirraheem"
   ]
  },
  {
   "cell_type": "code",
   "execution_count": 19,
   "metadata": {},
   "outputs": [
    {
     "name": "stdout",
     "output_type": "stream",
     "text": [
      "Collecting Faker\n",
      "  Using cached Faker-33.3.1-py3-none-any.whl.metadata (15 kB)\n",
      "Requirement already satisfied: python-dateutil>=2.4 in c:\\users\\hp\\downloads\\project da\\myenv\\lib\\site-packages (from Faker) (2.9.0.post0)\n",
      "Requirement already satisfied: typing-extensions in c:\\users\\hp\\downloads\\project da\\myenv\\lib\\site-packages (from Faker) (4.12.2)\n",
      "Requirement already satisfied: six>=1.5 in c:\\users\\hp\\downloads\\project da\\myenv\\lib\\site-packages (from python-dateutil>=2.4->Faker) (1.17.0)\n",
      "Using cached Faker-33.3.1-py3-none-any.whl (1.9 MB)\n",
      "Installing collected packages: Faker\n",
      "Successfully installed Faker-33.3.1\n"
     ]
    },
    {
     "name": "stderr",
     "output_type": "stream",
     "text": [
      "WARNING: Retrying (Retry(total=4, connect=None, read=None, redirect=None, status=None)) after connection broken by 'SSLError(SSLError(1, '[SSL: DECRYPTION_FAILED_OR_BAD_RECORD_MAC] decryption failed or bad record mac (_ssl.c:1018)'))': /simple/faker/\n"
     ]
    }
   ],
   "source": [
    "!pip install Faker\n"
   ]
  },
  {
   "cell_type": "code",
   "execution_count": 22,
   "metadata": {},
   "outputs": [],
   "source": [
    "# Importing different python Libraries for data analysis and visualization\n",
    "import pandas as pd\n",
    "import numpy as np\n",
    "import matplotlib.pyplot as plt\n",
    "import seaborn as sns\n",
    "import warnings\n",
    "import random\n",
    "from faker import Faker\n",
    "from datetime import datetime, timedelta"
   ]
  },
  {
   "cell_type": "code",
   "execution_count": 24,
   "metadata": {},
   "outputs": [],
   "source": [
    "# Initialize Faker\n",
    "fake = Faker()\n",
    "\n",
    "# Number of rows for the dataset\n",
    "num_rows = 20000\n",
    "\n",
    "# Generate columns\n",
    "data = {\n",
    "    \"Transaction_ID\": [fake.uuid4() for _ in range(num_rows)],\n",
    "    \"Date\": [fake.date_between(start_date=\"-2y\", end_date=\"today\") for _ in range(num_rows)],\n",
    "    \"Customer_ID\": [random.randint(1000, 9999) for _ in range(num_rows)],\n",
    "    \"Customer_Name\": [fake.name() for _ in range(num_rows)],\n",
    "    \"Region\": [random.choice([\"North\", \"South\", \"East\", \"West\"]) for _ in range(num_rows)],\n",
    "    \"Product_Category\": [random.choice([\"Electronics\", \"Clothing\", \"Furniture\", \"Toys\", \"Books\"]) for _ in range(num_rows)],\n",
    "    \"Product_Name\": [random.choice([\"Laptop\", \"Shirt\", \"Sofa\", \"Doll\", \"Novel\"]) for _ in range(num_rows)],\n",
    "    \"Quantity_Sold\": [random.randint(1, 10) for _ in range(num_rows)],\n",
    "    \"Price_per_Unit\": [round(random.uniform(5, 500), 2) for _ in range(num_rows)],\n",
    "    \"Discount\": [round(random.uniform(0, 0.5), 2) for _ in range(num_rows)],\n",
    "    \"Total_Sales\": [0] * num_rows  # Placeholder for calculation\n",
    "}\n",
    "\n",
    "# Calculate Total Sales\n",
    "data[\"Total_Sales\"] = [\n",
    "    round(data[\"Quantity_Sold\"][i] * data[\"Price_per_Unit\"][i] * (1 - data[\"Discount\"][i]), 2)\n",
    "    for i in range(num_rows)\n",
    "]\n",
    "\n",
    "# Create DataFrame\n",
    "sales_data = pd.DataFrame(data)\n",
    "\n",
    "# Save dataset to CSV\n",
    "sales_data.to_csv(\"Sales_Trend_Dataset.csv\", index=False)\n",
    "\n",
    "\n",
    "\n"
   ]
  },
  {
   "cell_type": "code",
   "execution_count": 25,
   "metadata": {},
   "outputs": [
    {
     "data": {
      "text/html": [
       "<div>\n",
       "<style scoped>\n",
       "    .dataframe tbody tr th:only-of-type {\n",
       "        vertical-align: middle;\n",
       "    }\n",
       "\n",
       "    .dataframe tbody tr th {\n",
       "        vertical-align: top;\n",
       "    }\n",
       "\n",
       "    .dataframe thead th {\n",
       "        text-align: right;\n",
       "    }\n",
       "</style>\n",
       "<table border=\"1\" class=\"dataframe\">\n",
       "  <thead>\n",
       "    <tr style=\"text-align: right;\">\n",
       "      <th></th>\n",
       "      <th>Transaction_ID</th>\n",
       "      <th>Date</th>\n",
       "      <th>Customer_ID</th>\n",
       "      <th>Customer_Name</th>\n",
       "      <th>Region</th>\n",
       "      <th>Product_Category</th>\n",
       "      <th>Product_Name</th>\n",
       "      <th>Quantity_Sold</th>\n",
       "      <th>Price_per_Unit</th>\n",
       "      <th>Discount</th>\n",
       "      <th>Total_Sales</th>\n",
       "    </tr>\n",
       "  </thead>\n",
       "  <tbody>\n",
       "    <tr>\n",
       "      <th>0</th>\n",
       "      <td>60e11d78-e5fd-4d16-958c-6075b427e30a</td>\n",
       "      <td>2024-04-17</td>\n",
       "      <td>6227</td>\n",
       "      <td>Todd Baker</td>\n",
       "      <td>East</td>\n",
       "      <td>Furniture</td>\n",
       "      <td>Shirt</td>\n",
       "      <td>7</td>\n",
       "      <td>88.38</td>\n",
       "      <td>0.21</td>\n",
       "      <td>488.74</td>\n",
       "    </tr>\n",
       "    <tr>\n",
       "      <th>1</th>\n",
       "      <td>b89fda99-8efa-428c-925c-6f1d56b99ada</td>\n",
       "      <td>2024-08-28</td>\n",
       "      <td>1375</td>\n",
       "      <td>Stephanie Jones</td>\n",
       "      <td>East</td>\n",
       "      <td>Electronics</td>\n",
       "      <td>Shirt</td>\n",
       "      <td>9</td>\n",
       "      <td>468.42</td>\n",
       "      <td>0.33</td>\n",
       "      <td>2824.57</td>\n",
       "    </tr>\n",
       "    <tr>\n",
       "      <th>2</th>\n",
       "      <td>d091961f-f91b-43ec-8b4f-bcbec6f93805</td>\n",
       "      <td>2023-10-21</td>\n",
       "      <td>8741</td>\n",
       "      <td>Jessica Carroll</td>\n",
       "      <td>North</td>\n",
       "      <td>Books</td>\n",
       "      <td>Sofa</td>\n",
       "      <td>3</td>\n",
       "      <td>364.51</td>\n",
       "      <td>0.07</td>\n",
       "      <td>1016.98</td>\n",
       "    </tr>\n",
       "    <tr>\n",
       "      <th>3</th>\n",
       "      <td>75d86d40-663e-49c5-8ef9-f2b37012d396</td>\n",
       "      <td>2024-09-15</td>\n",
       "      <td>8348</td>\n",
       "      <td>Amy Bryan</td>\n",
       "      <td>North</td>\n",
       "      <td>Clothing</td>\n",
       "      <td>Novel</td>\n",
       "      <td>9</td>\n",
       "      <td>307.59</td>\n",
       "      <td>0.38</td>\n",
       "      <td>1716.35</td>\n",
       "    </tr>\n",
       "    <tr>\n",
       "      <th>4</th>\n",
       "      <td>159d8ab4-7267-4b58-a8e5-83f1405c1eda</td>\n",
       "      <td>2023-04-03</td>\n",
       "      <td>5800</td>\n",
       "      <td>Eric Jenkins</td>\n",
       "      <td>South</td>\n",
       "      <td>Clothing</td>\n",
       "      <td>Novel</td>\n",
       "      <td>5</td>\n",
       "      <td>391.78</td>\n",
       "      <td>0.16</td>\n",
       "      <td>1645.48</td>\n",
       "    </tr>\n",
       "  </tbody>\n",
       "</table>\n",
       "</div>"
      ],
      "text/plain": [
       "                         Transaction_ID        Date  Customer_ID  \\\n",
       "0  60e11d78-e5fd-4d16-958c-6075b427e30a  2024-04-17         6227   \n",
       "1  b89fda99-8efa-428c-925c-6f1d56b99ada  2024-08-28         1375   \n",
       "2  d091961f-f91b-43ec-8b4f-bcbec6f93805  2023-10-21         8741   \n",
       "3  75d86d40-663e-49c5-8ef9-f2b37012d396  2024-09-15         8348   \n",
       "4  159d8ab4-7267-4b58-a8e5-83f1405c1eda  2023-04-03         5800   \n",
       "\n",
       "     Customer_Name Region Product_Category Product_Name  Quantity_Sold  \\\n",
       "0       Todd Baker   East        Furniture        Shirt              7   \n",
       "1  Stephanie Jones   East      Electronics        Shirt              9   \n",
       "2  Jessica Carroll  North            Books         Sofa              3   \n",
       "3        Amy Bryan  North         Clothing        Novel              9   \n",
       "4     Eric Jenkins  South         Clothing        Novel              5   \n",
       "\n",
       "   Price_per_Unit  Discount  Total_Sales  \n",
       "0           88.38      0.21       488.74  \n",
       "1          468.42      0.33      2824.57  \n",
       "2          364.51      0.07      1016.98  \n",
       "3          307.59      0.38      1716.35  \n",
       "4          391.78      0.16      1645.48  "
      ]
     },
     "execution_count": 25,
     "metadata": {},
     "output_type": "execute_result"
    }
   ],
   "source": [
    "df = pd.read_csv('Sales_Trend_Dataset.csv')\n",
    "\n",
    "#checking the first 5 rows of data using .head()\n",
    "df.head()"
   ]
  },
  {
   "cell_type": "code",
   "execution_count": 26,
   "metadata": {},
   "outputs": [
    {
     "data": {
      "text/plain": [
       "(20000, 11)"
      ]
     },
     "execution_count": 26,
     "metadata": {},
     "output_type": "execute_result"
    }
   ],
   "source": [
    "df.shape\n",
    "#our dataset contain 20k rows and 11 column"
   ]
  },
  {
   "cell_type": "code",
   "execution_count": 27,
   "metadata": {},
   "outputs": [
    {
     "data": {
      "text/html": [
       "<div>\n",
       "<style scoped>\n",
       "    .dataframe tbody tr th:only-of-type {\n",
       "        vertical-align: middle;\n",
       "    }\n",
       "\n",
       "    .dataframe tbody tr th {\n",
       "        vertical-align: top;\n",
       "    }\n",
       "\n",
       "    .dataframe thead th {\n",
       "        text-align: right;\n",
       "    }\n",
       "</style>\n",
       "<table border=\"1\" class=\"dataframe\">\n",
       "  <thead>\n",
       "    <tr style=\"text-align: right;\">\n",
       "      <th></th>\n",
       "      <th>Transaction_ID</th>\n",
       "      <th>Date</th>\n",
       "      <th>Customer_ID</th>\n",
       "      <th>Customer_Name</th>\n",
       "      <th>Region</th>\n",
       "      <th>Product_Category</th>\n",
       "      <th>Product_Name</th>\n",
       "      <th>Quantity_Sold</th>\n",
       "      <th>Price_per_Unit</th>\n",
       "      <th>Discount</th>\n",
       "      <th>Total_Sales</th>\n",
       "    </tr>\n",
       "  </thead>\n",
       "  <tbody>\n",
       "    <tr>\n",
       "      <th>0</th>\n",
       "      <td>False</td>\n",
       "      <td>False</td>\n",
       "      <td>False</td>\n",
       "      <td>False</td>\n",
       "      <td>False</td>\n",
       "      <td>False</td>\n",
       "      <td>False</td>\n",
       "      <td>False</td>\n",
       "      <td>False</td>\n",
       "      <td>False</td>\n",
       "      <td>False</td>\n",
       "    </tr>\n",
       "    <tr>\n",
       "      <th>1</th>\n",
       "      <td>False</td>\n",
       "      <td>False</td>\n",
       "      <td>False</td>\n",
       "      <td>False</td>\n",
       "      <td>False</td>\n",
       "      <td>False</td>\n",
       "      <td>False</td>\n",
       "      <td>False</td>\n",
       "      <td>False</td>\n",
       "      <td>False</td>\n",
       "      <td>False</td>\n",
       "    </tr>\n",
       "    <tr>\n",
       "      <th>2</th>\n",
       "      <td>False</td>\n",
       "      <td>False</td>\n",
       "      <td>False</td>\n",
       "      <td>False</td>\n",
       "      <td>False</td>\n",
       "      <td>False</td>\n",
       "      <td>False</td>\n",
       "      <td>False</td>\n",
       "      <td>False</td>\n",
       "      <td>False</td>\n",
       "      <td>False</td>\n",
       "    </tr>\n",
       "    <tr>\n",
       "      <th>3</th>\n",
       "      <td>False</td>\n",
       "      <td>False</td>\n",
       "      <td>False</td>\n",
       "      <td>False</td>\n",
       "      <td>False</td>\n",
       "      <td>False</td>\n",
       "      <td>False</td>\n",
       "      <td>False</td>\n",
       "      <td>False</td>\n",
       "      <td>False</td>\n",
       "      <td>False</td>\n",
       "    </tr>\n",
       "    <tr>\n",
       "      <th>4</th>\n",
       "      <td>False</td>\n",
       "      <td>False</td>\n",
       "      <td>False</td>\n",
       "      <td>False</td>\n",
       "      <td>False</td>\n",
       "      <td>False</td>\n",
       "      <td>False</td>\n",
       "      <td>False</td>\n",
       "      <td>False</td>\n",
       "      <td>False</td>\n",
       "      <td>False</td>\n",
       "    </tr>\n",
       "    <tr>\n",
       "      <th>...</th>\n",
       "      <td>...</td>\n",
       "      <td>...</td>\n",
       "      <td>...</td>\n",
       "      <td>...</td>\n",
       "      <td>...</td>\n",
       "      <td>...</td>\n",
       "      <td>...</td>\n",
       "      <td>...</td>\n",
       "      <td>...</td>\n",
       "      <td>...</td>\n",
       "      <td>...</td>\n",
       "    </tr>\n",
       "    <tr>\n",
       "      <th>19995</th>\n",
       "      <td>False</td>\n",
       "      <td>False</td>\n",
       "      <td>False</td>\n",
       "      <td>False</td>\n",
       "      <td>False</td>\n",
       "      <td>False</td>\n",
       "      <td>False</td>\n",
       "      <td>False</td>\n",
       "      <td>False</td>\n",
       "      <td>False</td>\n",
       "      <td>False</td>\n",
       "    </tr>\n",
       "    <tr>\n",
       "      <th>19996</th>\n",
       "      <td>False</td>\n",
       "      <td>False</td>\n",
       "      <td>False</td>\n",
       "      <td>False</td>\n",
       "      <td>False</td>\n",
       "      <td>False</td>\n",
       "      <td>False</td>\n",
       "      <td>False</td>\n",
       "      <td>False</td>\n",
       "      <td>False</td>\n",
       "      <td>False</td>\n",
       "    </tr>\n",
       "    <tr>\n",
       "      <th>19997</th>\n",
       "      <td>False</td>\n",
       "      <td>False</td>\n",
       "      <td>False</td>\n",
       "      <td>False</td>\n",
       "      <td>False</td>\n",
       "      <td>False</td>\n",
       "      <td>False</td>\n",
       "      <td>False</td>\n",
       "      <td>False</td>\n",
       "      <td>False</td>\n",
       "      <td>False</td>\n",
       "    </tr>\n",
       "    <tr>\n",
       "      <th>19998</th>\n",
       "      <td>False</td>\n",
       "      <td>False</td>\n",
       "      <td>False</td>\n",
       "      <td>False</td>\n",
       "      <td>False</td>\n",
       "      <td>False</td>\n",
       "      <td>False</td>\n",
       "      <td>False</td>\n",
       "      <td>False</td>\n",
       "      <td>False</td>\n",
       "      <td>False</td>\n",
       "    </tr>\n",
       "    <tr>\n",
       "      <th>19999</th>\n",
       "      <td>False</td>\n",
       "      <td>False</td>\n",
       "      <td>False</td>\n",
       "      <td>False</td>\n",
       "      <td>False</td>\n",
       "      <td>False</td>\n",
       "      <td>False</td>\n",
       "      <td>False</td>\n",
       "      <td>False</td>\n",
       "      <td>False</td>\n",
       "      <td>False</td>\n",
       "    </tr>\n",
       "  </tbody>\n",
       "</table>\n",
       "<p>20000 rows × 11 columns</p>\n",
       "</div>"
      ],
      "text/plain": [
       "       Transaction_ID   Date  Customer_ID  Customer_Name  Region  \\\n",
       "0               False  False        False          False   False   \n",
       "1               False  False        False          False   False   \n",
       "2               False  False        False          False   False   \n",
       "3               False  False        False          False   False   \n",
       "4               False  False        False          False   False   \n",
       "...               ...    ...          ...            ...     ...   \n",
       "19995           False  False        False          False   False   \n",
       "19996           False  False        False          False   False   \n",
       "19997           False  False        False          False   False   \n",
       "19998           False  False        False          False   False   \n",
       "19999           False  False        False          False   False   \n",
       "\n",
       "       Product_Category  Product_Name  Quantity_Sold  Price_per_Unit  \\\n",
       "0                 False         False          False           False   \n",
       "1                 False         False          False           False   \n",
       "2                 False         False          False           False   \n",
       "3                 False         False          False           False   \n",
       "4                 False         False          False           False   \n",
       "...                 ...           ...            ...             ...   \n",
       "19995             False         False          False           False   \n",
       "19996             False         False          False           False   \n",
       "19997             False         False          False           False   \n",
       "19998             False         False          False           False   \n",
       "19999             False         False          False           False   \n",
       "\n",
       "       Discount  Total_Sales  \n",
       "0         False        False  \n",
       "1         False        False  \n",
       "2         False        False  \n",
       "3         False        False  \n",
       "4         False        False  \n",
       "...         ...          ...  \n",
       "19995     False        False  \n",
       "19996     False        False  \n",
       "19997     False        False  \n",
       "19998     False        False  \n",
       "19999     False        False  \n",
       "\n",
       "[20000 rows x 11 columns]"
      ]
     },
     "execution_count": 27,
     "metadata": {},
     "output_type": "execute_result"
    }
   ],
   "source": [
    "#checking for missing values\n",
    "\n",
    "df.isnull()"
   ]
  },
  {
   "cell_type": "code",
   "execution_count": 28,
   "metadata": {},
   "outputs": [
    {
     "data": {
      "text/plain": [
       "Transaction_ID      0\n",
       "Date                0\n",
       "Customer_ID         0\n",
       "Customer_Name       0\n",
       "Region              0\n",
       "Product_Category    0\n",
       "Product_Name        0\n",
       "Quantity_Sold       0\n",
       "Price_per_Unit      0\n",
       "Discount            0\n",
       "Total_Sales         0\n",
       "dtype: int64"
      ]
     },
     "execution_count": 28,
     "metadata": {},
     "output_type": "execute_result"
    }
   ],
   "source": [
    "#checking sum of null value from each column\n",
    "df.isnull().sum()\n",
    "\n",
    "#so we can see no null values exist in our data set"
   ]
  },
  {
   "cell_type": "code",
   "execution_count": 29,
   "metadata": {},
   "outputs": [
    {
     "data": {
      "text/plain": [
       "np.int64(0)"
      ]
     },
     "execution_count": 29,
     "metadata": {},
     "output_type": "execute_result"
    }
   ],
   "source": [
    "\n",
    "#checing duplicate values\n",
    "df.duplicated()\n",
    "df.duplicated().sum()"
   ]
  },
  {
   "cell_type": "code",
   "execution_count": 30,
   "metadata": {},
   "outputs": [],
   "source": [
    "# Drop duplicates if any\n",
    "df = df.drop_duplicates()"
   ]
  },
  {
   "cell_type": "code",
   "execution_count": 31,
   "metadata": {},
   "outputs": [
    {
     "data": {
      "text/plain": [
       "0        2024-04-17\n",
       "1        2024-08-28\n",
       "2        2023-10-21\n",
       "3        2024-09-15\n",
       "4        2023-04-03\n",
       "            ...    \n",
       "19995    2024-08-13\n",
       "19996    2023-03-31\n",
       "19997    2023-04-23\n",
       "19998    2023-12-23\n",
       "19999    2023-05-26\n",
       "Name: Date, Length: 20000, dtype: object"
      ]
     },
     "execution_count": 31,
     "metadata": {},
     "output_type": "execute_result"
    }
   ],
   "source": [
    "df['Date']\n",
    "#here Date is object data type, need to convert in datetime data type"
   ]
  },
  {
   "cell_type": "code",
   "execution_count": 32,
   "metadata": {},
   "outputs": [
    {
     "data": {
      "text/plain": [
       "0       2024-04-17\n",
       "1       2024-08-28\n",
       "2       2023-10-21\n",
       "3       2024-09-15\n",
       "4       2023-04-03\n",
       "           ...    \n",
       "19995   2024-08-13\n",
       "19996   2023-03-31\n",
       "19997   2023-04-23\n",
       "19998   2023-12-23\n",
       "19999   2023-05-26\n",
       "Name: Date, Length: 20000, dtype: datetime64[ns]"
      ]
     },
     "execution_count": 32,
     "metadata": {},
     "output_type": "execute_result"
    }
   ],
   "source": [
    "df['Date'] = pd.to_datetime(df['Date'])\n",
    "df['Date']"
   ]
  },
  {
   "cell_type": "code",
   "execution_count": 33,
   "metadata": {},
   "outputs": [],
   "source": [
    "import datetime as dt\n",
    "#Now we need to separate date in day, month and year\n",
    "df['Day'] = df['Date'].dt.day\n",
    "df['Month'] = df['Date'].dt.month\n",
    "df['Year'] = df['Date'].dt.year"
   ]
  },
  {
   "cell_type": "code",
   "execution_count": 34,
   "metadata": {},
   "outputs": [
    {
     "data": {
      "text/html": [
       "<div>\n",
       "<style scoped>\n",
       "    .dataframe tbody tr th:only-of-type {\n",
       "        vertical-align: middle;\n",
       "    }\n",
       "\n",
       "    .dataframe tbody tr th {\n",
       "        vertical-align: top;\n",
       "    }\n",
       "\n",
       "    .dataframe thead th {\n",
       "        text-align: right;\n",
       "    }\n",
       "</style>\n",
       "<table border=\"1\" class=\"dataframe\">\n",
       "  <thead>\n",
       "    <tr style=\"text-align: right;\">\n",
       "      <th></th>\n",
       "      <th>Transaction_ID</th>\n",
       "      <th>Date</th>\n",
       "      <th>Customer_ID</th>\n",
       "      <th>Customer_Name</th>\n",
       "      <th>Region</th>\n",
       "      <th>Product_Category</th>\n",
       "      <th>Product_Name</th>\n",
       "      <th>Quantity_Sold</th>\n",
       "      <th>Price_per_Unit</th>\n",
       "      <th>Discount</th>\n",
       "      <th>Total_Sales</th>\n",
       "      <th>Day</th>\n",
       "      <th>Month</th>\n",
       "      <th>Year</th>\n",
       "    </tr>\n",
       "  </thead>\n",
       "  <tbody>\n",
       "    <tr>\n",
       "      <th>0</th>\n",
       "      <td>60e11d78-e5fd-4d16-958c-6075b427e30a</td>\n",
       "      <td>2024-04-17</td>\n",
       "      <td>6227</td>\n",
       "      <td>Todd Baker</td>\n",
       "      <td>East</td>\n",
       "      <td>Furniture</td>\n",
       "      <td>Shirt</td>\n",
       "      <td>7</td>\n",
       "      <td>88.38</td>\n",
       "      <td>0.21</td>\n",
       "      <td>488.74</td>\n",
       "      <td>17</td>\n",
       "      <td>4</td>\n",
       "      <td>2024</td>\n",
       "    </tr>\n",
       "    <tr>\n",
       "      <th>1</th>\n",
       "      <td>b89fda99-8efa-428c-925c-6f1d56b99ada</td>\n",
       "      <td>2024-08-28</td>\n",
       "      <td>1375</td>\n",
       "      <td>Stephanie Jones</td>\n",
       "      <td>East</td>\n",
       "      <td>Electronics</td>\n",
       "      <td>Shirt</td>\n",
       "      <td>9</td>\n",
       "      <td>468.42</td>\n",
       "      <td>0.33</td>\n",
       "      <td>2824.57</td>\n",
       "      <td>28</td>\n",
       "      <td>8</td>\n",
       "      <td>2024</td>\n",
       "    </tr>\n",
       "  </tbody>\n",
       "</table>\n",
       "</div>"
      ],
      "text/plain": [
       "                         Transaction_ID       Date  Customer_ID  \\\n",
       "0  60e11d78-e5fd-4d16-958c-6075b427e30a 2024-04-17         6227   \n",
       "1  b89fda99-8efa-428c-925c-6f1d56b99ada 2024-08-28         1375   \n",
       "\n",
       "     Customer_Name Region Product_Category Product_Name  Quantity_Sold  \\\n",
       "0       Todd Baker   East        Furniture        Shirt              7   \n",
       "1  Stephanie Jones   East      Electronics        Shirt              9   \n",
       "\n",
       "   Price_per_Unit  Discount  Total_Sales  Day  Month  Year  \n",
       "0           88.38      0.21       488.74   17      4  2024  \n",
       "1          468.42      0.33      2824.57   28      8  2024  "
      ]
     },
     "execution_count": 34,
     "metadata": {},
     "output_type": "execute_result"
    }
   ],
   "source": [
    "df.head(2)"
   ]
  },
  {
   "cell_type": "code",
   "execution_count": 35,
   "metadata": {},
   "outputs": [],
   "source": [
    "# Handle outliers (e.g., Total_Sales should not be negative)\n",
    "df = df[df['Total_Sales'] >= 0]\n"
   ]
  },
  {
   "cell_type": "code",
   "execution_count": 36,
   "metadata": {},
   "outputs": [
    {
     "data": {
      "text/plain": [
       "<Axes: ylabel='Total_Sales'>"
      ]
     },
     "execution_count": 36,
     "metadata": {},
     "output_type": "execute_result"
    },
    {
     "data": {
      "image/png": "[encoded data removed]",
      "text/plain": [
       "<Figure size 640x480 with 1 Axes>"
      ]
     },
     "metadata": {},
     "output_type": "display_data"
    }
   ],
   "source": [
    "#checking outliers\n",
    "sns.boxplot(df['Total_Sales'])\n",
    "#plt.boxplot('Total_Sales')"
   ]
  },
  {
   "cell_type": "code",
   "execution_count": 37,
   "metadata": {},
   "outputs": [
    {
     "name": "stdout",
     "output_type": "stream",
     "text": [
      "<class 'pandas.core.frame.DataFrame'>\n",
      "RangeIndex: 20000 entries, 0 to 19999\n",
      "Data columns (total 14 columns):\n",
      " #   Column            Non-Null Count  Dtype         \n",
      "---  ------            --------------  -----         \n",
      " 0   Transaction_ID    20000 non-null  object        \n",
      " 1   Date              20000 non-null  datetime64[ns]\n",
      " 2   Customer_ID       20000 non-null  int64         \n",
      " 3   Customer_Name     20000 non-null  object        \n",
      " 4   Region            20000 non-null  object        \n",
      " 5   Product_Category  20000 non-null  object        \n",
      " 6   Product_Name      20000 non-null  object        \n",
      " 7   Quantity_Sold     20000 non-null  int64         \n",
      " 8   Price_per_Unit    20000 non-null  float64       \n",
      " 9   Discount          20000 non-null  float64       \n",
      " 10  Total_Sales       20000 non-null  float64       \n",
      " 11  Day               20000 non-null  int32         \n",
      " 12  Month             20000 non-null  int32         \n",
      " 13  Year              20000 non-null  int32         \n",
      "dtypes: datetime64[ns](1), float64(3), int32(3), int64(2), object(5)\n",
      "memory usage: 1.9+ MB\n"
     ]
    }
   ],
   "source": [
    "df.info()"
   ]
  },
  {
   "cell_type": "code",
   "execution_count": 38,
   "metadata": {},
   "outputs": [
    {
     "data": {
      "text/plain": [
       "(20000, 14)"
      ]
     },
     "execution_count": 38,
     "metadata": {},
     "output_type": "execute_result"
    }
   ],
   "source": [
    "df.shape"
   ]
  },
  {
   "cell_type": "markdown",
   "metadata": {},
   "source": [
    "# Exploratory Data Analysis"
   ]
  },
  {
   "cell_type": "code",
   "execution_count": 39,
   "metadata": {},
   "outputs": [],
   "source": [
    "#Now I will save this clean data set first then I will do EDA\n",
    "\n",
    "df.to_csv('Cleaned_data_set.csv', index = False)"
   ]
  },
  {
   "cell_type": "code",
   "execution_count": 42,
   "metadata": {},
   "outputs": [],
   "source": [
    "df = pd.read_csv('Cleaned_data_set.csv')"
   ]
  },
  {
   "cell_type": "code",
   "execution_count": 131,
   "metadata": {},
   "outputs": [
    {
     "data": {
      "text/html": [
       "<div>\n",
       "<style scoped>\n",
       "    .dataframe tbody tr th:only-of-type {\n",
       "        vertical-align: middle;\n",
       "    }\n",
       "\n",
       "    .dataframe tbody tr th {\n",
       "        vertical-align: top;\n",
       "    }\n",
       "\n",
       "    .dataframe thead th {\n",
       "        text-align: right;\n",
       "    }\n",
       "</style>\n",
       "<table border=\"1\" class=\"dataframe\">\n",
       "  <thead>\n",
       "    <tr style=\"text-align: right;\">\n",
       "      <th></th>\n",
       "      <th>Transaction_ID</th>\n",
       "      <th>Date</th>\n",
       "      <th>Customer_ID</th>\n",
       "      <th>Customer_Name</th>\n",
       "      <th>Region</th>\n",
       "      <th>Product_Category</th>\n",
       "      <th>Product_Name</th>\n",
       "      <th>Quantity_Sold</th>\n",
       "      <th>Price_per_Unit</th>\n",
       "      <th>Discount</th>\n",
       "      <th>Total_Sales</th>\n",
       "      <th>Day</th>\n",
       "      <th>Month</th>\n",
       "      <th>Year</th>\n",
       "    </tr>\n",
       "  </thead>\n",
       "  <tbody>\n",
       "    <tr>\n",
       "      <th>0</th>\n",
       "      <td>63dec929-7ba7-456a-af0f-4b0873bfd56a</td>\n",
       "      <td>2024-12-14</td>\n",
       "      <td>8162</td>\n",
       "      <td>Kelli Pratt</td>\n",
       "      <td>North</td>\n",
       "      <td>Clothing</td>\n",
       "      <td>Laptop</td>\n",
       "      <td>5</td>\n",
       "      <td>303.15</td>\n",
       "      <td>0.41</td>\n",
       "      <td>894.29</td>\n",
       "      <td>14</td>\n",
       "      <td>12</td>\n",
       "      <td>2024</td>\n",
       "    </tr>\n",
       "    <tr>\n",
       "      <th>1</th>\n",
       "      <td>ecd8287f-723a-4807-a8f0-60e1322bee16</td>\n",
       "      <td>2023-09-02</td>\n",
       "      <td>5603</td>\n",
       "      <td>Shawn Kane</td>\n",
       "      <td>South</td>\n",
       "      <td>Electronics</td>\n",
       "      <td>Sofa</td>\n",
       "      <td>5</td>\n",
       "      <td>262.73</td>\n",
       "      <td>0.02</td>\n",
       "      <td>1287.38</td>\n",
       "      <td>2</td>\n",
       "      <td>9</td>\n",
       "      <td>2023</td>\n",
       "    </tr>\n",
       "    <tr>\n",
       "      <th>2</th>\n",
       "      <td>37aaf779-533e-4897-8144-b07c52d3e273</td>\n",
       "      <td>2024-09-16</td>\n",
       "      <td>6647</td>\n",
       "      <td>Arthur Johnson</td>\n",
       "      <td>South</td>\n",
       "      <td>Toys</td>\n",
       "      <td>Doll</td>\n",
       "      <td>4</td>\n",
       "      <td>349.41</td>\n",
       "      <td>0.22</td>\n",
       "      <td>1090.16</td>\n",
       "      <td>16</td>\n",
       "      <td>9</td>\n",
       "      <td>2024</td>\n",
       "    </tr>\n",
       "    <tr>\n",
       "      <th>3</th>\n",
       "      <td>2fc83623-1843-4dad-b106-c5c1a3cb59c7</td>\n",
       "      <td>2023-09-19</td>\n",
       "      <td>1738</td>\n",
       "      <td>Maria Murray</td>\n",
       "      <td>West</td>\n",
       "      <td>Toys</td>\n",
       "      <td>Laptop</td>\n",
       "      <td>4</td>\n",
       "      <td>95.38</td>\n",
       "      <td>0.22</td>\n",
       "      <td>297.59</td>\n",
       "      <td>19</td>\n",
       "      <td>9</td>\n",
       "      <td>2023</td>\n",
       "    </tr>\n",
       "    <tr>\n",
       "      <th>4</th>\n",
       "      <td>8aa7fc50-f6db-4125-8ead-4c53c6504cc2</td>\n",
       "      <td>2024-07-02</td>\n",
       "      <td>7263</td>\n",
       "      <td>Renee Green</td>\n",
       "      <td>North</td>\n",
       "      <td>Clothing</td>\n",
       "      <td>Doll</td>\n",
       "      <td>3</td>\n",
       "      <td>242.81</td>\n",
       "      <td>0.14</td>\n",
       "      <td>626.45</td>\n",
       "      <td>2</td>\n",
       "      <td>7</td>\n",
       "      <td>2024</td>\n",
       "    </tr>\n",
       "  </tbody>\n",
       "</table>\n",
       "</div>"
      ],
      "text/plain": [
       "                         Transaction_ID        Date  Customer_ID  \\\n",
       "0  63dec929-7ba7-456a-af0f-4b0873bfd56a  2024-12-14         8162   \n",
       "1  ecd8287f-723a-4807-a8f0-60e1322bee16  2023-09-02         5603   \n",
       "2  37aaf779-533e-4897-8144-b07c52d3e273  2024-09-16         6647   \n",
       "3  2fc83623-1843-4dad-b106-c5c1a3cb59c7  2023-09-19         1738   \n",
       "4  8aa7fc50-f6db-4125-8ead-4c53c6504cc2  2024-07-02         7263   \n",
       "\n",
       "    Customer_Name Region Product_Category Product_Name  Quantity_Sold  \\\n",
       "0     Kelli Pratt  North         Clothing       Laptop              5   \n",
       "1      Shawn Kane  South      Electronics         Sofa              5   \n",
       "2  Arthur Johnson  South             Toys         Doll              4   \n",
       "3    Maria Murray   West             Toys       Laptop              4   \n",
       "4     Renee Green  North         Clothing         Doll              3   \n",
       "\n",
       "   Price_per_Unit  Discount  Total_Sales  Day  Month  Year  \n",
       "0          303.15      0.41       894.29   14     12  2024  \n",
       "1          262.73      0.02      1287.38    2      9  2023  \n",
       "2          349.41      0.22      1090.16   16      9  2024  \n",
       "3           95.38      0.22       297.59   19      9  2023  \n",
       "4          242.81      0.14       626.45    2      7  2024  "
      ]
     },
     "execution_count": 131,
     "metadata": {},
     "output_type": "execute_result"
    }
   ],
   "source": [
    "df.head()"
   ]
  },
  {
   "cell_type": "code",
   "execution_count": 43,
   "metadata": {},
   "outputs": [
    {
     "data": {
      "text/html": [
       "<div>\n",
       "<style scoped>\n",
       "    .dataframe tbody tr th:only-of-type {\n",
       "        vertical-align: middle;\n",
       "    }\n",
       "\n",
       "    .dataframe tbody tr th {\n",
       "        vertical-align: top;\n",
       "    }\n",
       "\n",
       "    .dataframe thead th {\n",
       "        text-align: right;\n",
       "    }\n",
       "</style>\n",
       "<table border=\"1\" class=\"dataframe\">\n",
       "  <thead>\n",
       "    <tr style=\"text-align: right;\">\n",
       "      <th></th>\n",
       "      <th>Customer_ID</th>\n",
       "      <th>Quantity_Sold</th>\n",
       "      <th>Price_per_Unit</th>\n",
       "      <th>Discount</th>\n",
       "      <th>Total_Sales</th>\n",
       "      <th>Day</th>\n",
       "      <th>Month</th>\n",
       "      <th>Year</th>\n",
       "    </tr>\n",
       "  </thead>\n",
       "  <tbody>\n",
       "    <tr>\n",
       "      <th>count</th>\n",
       "      <td>20000.000000</td>\n",
       "      <td>20000.000000</td>\n",
       "      <td>20000.000000</td>\n",
       "      <td>20000.000000</td>\n",
       "      <td>20000.000000</td>\n",
       "      <td>20000.00000</td>\n",
       "      <td>20000.000000</td>\n",
       "      <td>20000.00000</td>\n",
       "    </tr>\n",
       "    <tr>\n",
       "      <th>mean</th>\n",
       "      <td>5486.323550</td>\n",
       "      <td>5.475700</td>\n",
       "      <td>252.225945</td>\n",
       "      <td>0.250469</td>\n",
       "      <td>1034.947746</td>\n",
       "      <td>15.70355</td>\n",
       "      <td>6.541050</td>\n",
       "      <td>2023.56585</td>\n",
       "    </tr>\n",
       "    <tr>\n",
       "      <th>std</th>\n",
       "      <td>2596.841401</td>\n",
       "      <td>2.871519</td>\n",
       "      <td>142.842496</td>\n",
       "      <td>0.145389</td>\n",
       "      <td>894.825566</td>\n",
       "      <td>8.78887</td>\n",
       "      <td>3.451291</td>\n",
       "      <td>0.55098</td>\n",
       "    </tr>\n",
       "    <tr>\n",
       "      <th>min</th>\n",
       "      <td>1000.000000</td>\n",
       "      <td>1.000000</td>\n",
       "      <td>5.040000</td>\n",
       "      <td>0.000000</td>\n",
       "      <td>2.880000</td>\n",
       "      <td>1.00000</td>\n",
       "      <td>1.000000</td>\n",
       "      <td>2023.00000</td>\n",
       "    </tr>\n",
       "    <tr>\n",
       "      <th>25%</th>\n",
       "      <td>3236.000000</td>\n",
       "      <td>3.000000</td>\n",
       "      <td>127.937500</td>\n",
       "      <td>0.120000</td>\n",
       "      <td>321.535000</td>\n",
       "      <td>8.00000</td>\n",
       "      <td>4.000000</td>\n",
       "      <td>2023.00000</td>\n",
       "    </tr>\n",
       "    <tr>\n",
       "      <th>50%</th>\n",
       "      <td>5477.500000</td>\n",
       "      <td>5.000000</td>\n",
       "      <td>251.935000</td>\n",
       "      <td>0.250000</td>\n",
       "      <td>769.420000</td>\n",
       "      <td>16.00000</td>\n",
       "      <td>7.000000</td>\n",
       "      <td>2024.00000</td>\n",
       "    </tr>\n",
       "    <tr>\n",
       "      <th>75%</th>\n",
       "      <td>7729.250000</td>\n",
       "      <td>8.000000</td>\n",
       "      <td>376.232500</td>\n",
       "      <td>0.380000</td>\n",
       "      <td>1519.560000</td>\n",
       "      <td>23.00000</td>\n",
       "      <td>10.000000</td>\n",
       "      <td>2024.00000</td>\n",
       "    </tr>\n",
       "    <tr>\n",
       "      <th>max</th>\n",
       "      <td>9999.000000</td>\n",
       "      <td>10.000000</td>\n",
       "      <td>499.980000</td>\n",
       "      <td>0.500000</td>\n",
       "      <td>4870.600000</td>\n",
       "      <td>31.00000</td>\n",
       "      <td>12.000000</td>\n",
       "      <td>2025.00000</td>\n",
       "    </tr>\n",
       "  </tbody>\n",
       "</table>\n",
       "</div>"
      ],
      "text/plain": [
       "        Customer_ID  Quantity_Sold  Price_per_Unit      Discount  \\\n",
       "count  20000.000000   20000.000000    20000.000000  20000.000000   \n",
       "mean    5486.323550       5.475700      252.225945      0.250469   \n",
       "std     2596.841401       2.871519      142.842496      0.145389   \n",
       "min     1000.000000       1.000000        5.040000      0.000000   \n",
       "25%     3236.000000       3.000000      127.937500      0.120000   \n",
       "50%     5477.500000       5.000000      251.935000      0.250000   \n",
       "75%     7729.250000       8.000000      376.232500      0.380000   \n",
       "max     9999.000000      10.000000      499.980000      0.500000   \n",
       "\n",
       "        Total_Sales          Day         Month         Year  \n",
       "count  20000.000000  20000.00000  20000.000000  20000.00000  \n",
       "mean    1034.947746     15.70355      6.541050   2023.56585  \n",
       "std      894.825566      8.78887      3.451291      0.55098  \n",
       "min        2.880000      1.00000      1.000000   2023.00000  \n",
       "25%      321.535000      8.00000      4.000000   2023.00000  \n",
       "50%      769.420000     16.00000      7.000000   2024.00000  \n",
       "75%     1519.560000     23.00000     10.000000   2024.00000  \n",
       "max     4870.600000     31.00000     12.000000   2025.00000  "
      ]
     },
     "execution_count": 43,
     "metadata": {},
     "output_type": "execute_result"
    }
   ],
   "source": [
    "#checking the statistic of this data set or summary of this data set\n",
    "df.describe()"
   ]
  },
  {
   "cell_type": "code",
   "execution_count": 44,
   "metadata": {},
   "outputs": [
    {
     "data": {
      "text/plain": [
       "Month\n",
       "1     1700736.03\n",
       "2     1552746.21\n",
       "3     1764671.25\n",
       "4     1655775.41\n",
       "5     1829720.72\n",
       "6     1759850.06\n",
       "7     1634612.36\n",
       "8     1699036.14\n",
       "9     1788969.65\n",
       "10    1867234.83\n",
       "11    1674856.19\n",
       "12    1770746.08\n",
       "Name: Total_Sales, dtype: float64"
      ]
     },
     "execution_count": 44,
     "metadata": {},
     "output_type": "execute_result"
    }
   ],
   "source": [
    "#Sleas Trend Over Time\n",
    "\n",
    "monthly_sales = df.groupby('Month')['Total_Sales']\n",
    "monthly_sales.sum()"
   ]
  },
  {
   "cell_type": "code",
   "execution_count": 45,
   "metadata": {},
   "outputs": [
    {
     "data": {
      "text/html": [
       "<div>\n",
       "<style scoped>\n",
       "    .dataframe tbody tr th:only-of-type {\n",
       "        vertical-align: middle;\n",
       "    }\n",
       "\n",
       "    .dataframe tbody tr th {\n",
       "        vertical-align: top;\n",
       "    }\n",
       "\n",
       "    .dataframe thead th {\n",
       "        text-align: right;\n",
       "    }\n",
       "</style>\n",
       "<table border=\"1\" class=\"dataframe\">\n",
       "  <thead>\n",
       "    <tr style=\"text-align: right;\">\n",
       "      <th></th>\n",
       "      <th>Month</th>\n",
       "      <th>Total_Sales</th>\n",
       "    </tr>\n",
       "  </thead>\n",
       "  <tbody>\n",
       "    <tr>\n",
       "      <th>0</th>\n",
       "      <td>1</td>\n",
       "      <td>1700736.03</td>\n",
       "    </tr>\n",
       "    <tr>\n",
       "      <th>1</th>\n",
       "      <td>2</td>\n",
       "      <td>1552746.21</td>\n",
       "    </tr>\n",
       "    <tr>\n",
       "      <th>2</th>\n",
       "      <td>3</td>\n",
       "      <td>1764671.25</td>\n",
       "    </tr>\n",
       "    <tr>\n",
       "      <th>3</th>\n",
       "      <td>4</td>\n",
       "      <td>1655775.41</td>\n",
       "    </tr>\n",
       "    <tr>\n",
       "      <th>4</th>\n",
       "      <td>5</td>\n",
       "      <td>1829720.72</td>\n",
       "    </tr>\n",
       "    <tr>\n",
       "      <th>5</th>\n",
       "      <td>6</td>\n",
       "      <td>1759850.06</td>\n",
       "    </tr>\n",
       "    <tr>\n",
       "      <th>6</th>\n",
       "      <td>7</td>\n",
       "      <td>1634612.36</td>\n",
       "    </tr>\n",
       "    <tr>\n",
       "      <th>7</th>\n",
       "      <td>8</td>\n",
       "      <td>1699036.14</td>\n",
       "    </tr>\n",
       "    <tr>\n",
       "      <th>8</th>\n",
       "      <td>9</td>\n",
       "      <td>1788969.65</td>\n",
       "    </tr>\n",
       "    <tr>\n",
       "      <th>9</th>\n",
       "      <td>10</td>\n",
       "      <td>1867234.83</td>\n",
       "    </tr>\n",
       "    <tr>\n",
       "      <th>10</th>\n",
       "      <td>11</td>\n",
       "      <td>1674856.19</td>\n",
       "    </tr>\n",
       "    <tr>\n",
       "      <th>11</th>\n",
       "      <td>12</td>\n",
       "      <td>1770746.08</td>\n",
       "    </tr>\n",
       "  </tbody>\n",
       "</table>\n",
       "</div>"
      ],
      "text/plain": [
       "    Month  Total_Sales\n",
       "0       1   1700736.03\n",
       "1       2   1552746.21\n",
       "2       3   1764671.25\n",
       "3       4   1655775.41\n",
       "4       5   1829720.72\n",
       "5       6   1759850.06\n",
       "6       7   1634612.36\n",
       "7       8   1699036.14\n",
       "8       9   1788969.65\n",
       "9      10   1867234.83\n",
       "10     11   1674856.19\n",
       "11     12   1770746.08"
      ]
     },
     "execution_count": 45,
     "metadata": {},
     "output_type": "execute_result"
    }
   ],
   "source": [
    "monthly_sales = df.groupby('Month')['Total_Sales'].sum().reset_index()\n",
    "monthly_sales"
   ]
  },
  {
   "cell_type": "code",
   "execution_count": 46,
   "metadata": {},
   "outputs": [
    {
     "data": {
      "image/png": "[encoded data removed]",
      "text/plain": [
       "<Figure size 1200x600 with 1 Axes>"
      ]
     },
     "metadata": {},
     "output_type": "display_data"
    }
   ],
   "source": [
    "#plotting sales trend\n",
    "\n",
    "plt.figure(figsize=(12,6))\n",
    "sns.lineplot(x = 'Month', y = 'Total_Sales', data = monthly_sales, marker = 'o', color = 'blue')\n",
    "plt.title(\"Sales Trend over Time\", fontsize = 16)\n",
    "plt.xlabel(\"Moth\", fontsize = 12)\n",
    "plt.ylabel(\"Total_Sales\", fontsize = 12)\n",
    "#plt.xticks(rotation = 45)\n",
    "plt.grid()\n",
    "plt.show()"
   ]
  },
  {
   "cell_type": "code",
   "execution_count": 47,
   "metadata": {},
   "outputs": [],
   "source": [
    "# This line plot shows the fluctuation of sales over months."
   ]
  },
  {
   "cell_type": "code",
   "execution_count": 48,
   "metadata": {},
   "outputs": [
    {
     "data": {
      "text/html": [
       "<div>\n",
       "<style scoped>\n",
       "    .dataframe tbody tr th:only-of-type {\n",
       "        vertical-align: middle;\n",
       "    }\n",
       "\n",
       "    .dataframe tbody tr th {\n",
       "        vertical-align: top;\n",
       "    }\n",
       "\n",
       "    .dataframe thead th {\n",
       "        text-align: right;\n",
       "    }\n",
       "</style>\n",
       "<table border=\"1\" class=\"dataframe\">\n",
       "  <thead>\n",
       "    <tr style=\"text-align: right;\">\n",
       "      <th></th>\n",
       "      <th>Region</th>\n",
       "      <th>Total_Sales</th>\n",
       "    </tr>\n",
       "  </thead>\n",
       "  <tbody>\n",
       "    <tr>\n",
       "      <th>0</th>\n",
       "      <td>East</td>\n",
       "      <td>5206826.54</td>\n",
       "    </tr>\n",
       "    <tr>\n",
       "      <th>1</th>\n",
       "      <td>North</td>\n",
       "      <td>5108150.77</td>\n",
       "    </tr>\n",
       "    <tr>\n",
       "      <th>2</th>\n",
       "      <td>South</td>\n",
       "      <td>5144649.77</td>\n",
       "    </tr>\n",
       "    <tr>\n",
       "      <th>3</th>\n",
       "      <td>West</td>\n",
       "      <td>5239327.85</td>\n",
       "    </tr>\n",
       "  </tbody>\n",
       "</table>\n",
       "</div>"
      ],
      "text/plain": [
       "  Region  Total_Sales\n",
       "0   East   5206826.54\n",
       "1  North   5108150.77\n",
       "2  South   5144649.77\n",
       "3   West   5239327.85"
      ]
     },
     "execution_count": 48,
     "metadata": {},
     "output_type": "execute_result"
    }
   ],
   "source": [
    "#Total Sales by region\n",
    "\n",
    "region_sales = df.groupby('Region')['Total_Sales'].sum().reset_index()\n",
    "region_sales"
   ]
  },
  {
   "cell_type": "code",
   "execution_count": 50,
   "metadata": {},
   "outputs": [
    {
     "name": "stderr",
     "output_type": "stream",
     "text": [
      "C:\\Users\\hp\\AppData\\Local\\Temp\\ipykernel_18568\\3715237329.py:5: FutureWarning: \n",
      "\n",
      "Passing `palette` without assigning `hue` is deprecated and will be removed in v0.14.0. Assign the `x` variable to `hue` and set `legend=False` for the same effect.\n",
      "\n",
      "  sns.barplot(x = 'Region', y = 'Total_Sales', data = region_sales, palette='viridis')\n"
     ]
    },
    {
     "data": {
      "image/png": "[encoded data removed]",
      "text/plain": [
       "<Figure size 1000x600 with 1 Axes>"
      ]
     },
     "metadata": {},
     "output_type": "display_data"
    }
   ],
   "source": [
    "#import plotly.express as px\n",
    "#plotting bar chart to visualize sales from different region\n",
    "\n",
    "plt.figure(figsize=(10,6))\n",
    "sns.barplot(x = 'Region', y = 'Total_Sales', data = region_sales, palette='viridis')\n",
    "plt.title(\"Total Sales by Region\", fontsize=16)\n",
    "plt.xlabel(\"Region\", fontsize=12)\n",
    "plt.ylabel(\"Total Sales\", fontsize=12)\n",
    "#plt.grid()\n",
    "plt.show()"
   ]
  },
  {
   "cell_type": "code",
   "execution_count": 51,
   "metadata": {},
   "outputs": [],
   "source": [
    "#Region such as West contributed the highest sales, while South lagged behind."
   ]
  },
  {
   "cell_type": "code",
   "execution_count": 52,
   "metadata": {},
   "outputs": [
    {
     "data": {
      "text/html": [
       "<div>\n",
       "<style scoped>\n",
       "    .dataframe tbody tr th:only-of-type {\n",
       "        vertical-align: middle;\n",
       "    }\n",
       "\n",
       "    .dataframe tbody tr th {\n",
       "        vertical-align: top;\n",
       "    }\n",
       "\n",
       "    .dataframe thead th {\n",
       "        text-align: right;\n",
       "    }\n",
       "</style>\n",
       "<table border=\"1\" class=\"dataframe\">\n",
       "  <thead>\n",
       "    <tr style=\"text-align: right;\">\n",
       "      <th></th>\n",
       "      <th>Product_Name</th>\n",
       "      <th>Total_Sales</th>\n",
       "    </tr>\n",
       "  </thead>\n",
       "  <tbody>\n",
       "    <tr>\n",
       "      <th>0</th>\n",
       "      <td>Doll</td>\n",
       "      <td>4076309.96</td>\n",
       "    </tr>\n",
       "    <tr>\n",
       "      <th>1</th>\n",
       "      <td>Laptop</td>\n",
       "      <td>4200234.74</td>\n",
       "    </tr>\n",
       "    <tr>\n",
       "      <th>2</th>\n",
       "      <td>Novel</td>\n",
       "      <td>4267883.19</td>\n",
       "    </tr>\n",
       "    <tr>\n",
       "      <th>3</th>\n",
       "      <td>Shirt</td>\n",
       "      <td>4083284.52</td>\n",
       "    </tr>\n",
       "    <tr>\n",
       "      <th>4</th>\n",
       "      <td>Sofa</td>\n",
       "      <td>4071242.52</td>\n",
       "    </tr>\n",
       "  </tbody>\n",
       "</table>\n",
       "</div>"
      ],
      "text/plain": [
       "  Product_Name  Total_Sales\n",
       "0         Doll   4076309.96\n",
       "1       Laptop   4200234.74\n",
       "2        Novel   4267883.19\n",
       "3        Shirt   4083284.52\n",
       "4         Sofa   4071242.52"
      ]
     },
     "execution_count": 52,
     "metadata": {},
     "output_type": "execute_result"
    }
   ],
   "source": [
    "#Top 5 performing Products\n",
    "\n",
    "top5_products = df.groupby('Product_Name')['Total_Sales'].sum().reset_index()\n",
    "top5_products"
   ]
  },
  {
   "cell_type": "code",
   "execution_count": 53,
   "metadata": {},
   "outputs": [
    {
     "name": "stderr",
     "output_type": "stream",
     "text": [
      "C:\\Users\\hp\\AppData\\Local\\Temp\\ipykernel_18568\\3106095536.py:2: FutureWarning: \n",
      "\n",
      "Passing `palette` without assigning `hue` is deprecated and will be removed in v0.14.0. Assign the `y` variable to `hue` and set `legend=False` for the same effect.\n",
      "\n",
      "  sns.barplot(x='Total_Sales', y = 'Product_Name', data = top5_products, palette='viridis',)\n"
     ]
    },
    {
     "data": {
      "image/png": "[encoded data removed]",
      "text/plain": [
       "<Figure size 1000x600 with 1 Axes>"
      ]
     },
     "metadata": {},
     "output_type": "display_data"
    }
   ],
   "source": [
    "plt.figure(figsize = (10,6))\n",
    "sns.barplot(x='Total_Sales', y = 'Product_Name', data = top5_products, palette='viridis',)\n",
    "plt.title(\"Top 5 Performing Products\", fontsize=16)\n",
    "plt.xlabel(\"Total Sales\", fontsize=12)\n",
    "plt.ylabel(\"Product Name\", fontsize=12)\n",
    "plt.show()"
   ]
  },
  {
   "cell_type": "code",
   "execution_count": 54,
   "metadata": {},
   "outputs": [],
   "source": [
    "#Products like Doll and Novel generated the highest revenue, followed by items like Laptop and Shirt"
   ]
  },
  {
   "cell_type": "code",
   "execution_count": 55,
   "metadata": {},
   "outputs": [
    {
     "data": {
      "image/png": "[encoded data removed]",
      "text/plain": [
       "<Figure size 1000x600 with 1 Axes>"
      ]
     },
     "metadata": {},
     "output_type": "display_data"
    }
   ],
   "source": [
    "#How discount is being distributed\n",
    "\n",
    "plt.figure(figsize=(10,6))\n",
    "sns.histplot(df['Discount'], bins = 20, kde=True, color = 'green')\n",
    "plt.title(\"Distribution of Discounts\", fontsize=16)\n",
    "plt.xlabel(\"Discount\", fontsize=12)\n",
    "plt.ylabel(\"Frequency\", fontsize=12)\n",
    "plt.show()"
   ]
  },
  {
   "cell_type": "code",
   "execution_count": null,
   "metadata": {},
   "outputs": [],
   "source": [
    "#Discounts were typically between 0% and 50%, with the majority clustered around 20%-30%."
   ]
  },
  {
   "cell_type": "code",
   "execution_count": 56,
   "metadata": {},
   "outputs": [
    {
     "data": {
      "text/html": [
       "<div>\n",
       "<style scoped>\n",
       "    .dataframe tbody tr th:only-of-type {\n",
       "        vertical-align: middle;\n",
       "    }\n",
       "\n",
       "    .dataframe tbody tr th {\n",
       "        vertical-align: top;\n",
       "    }\n",
       "\n",
       "    .dataframe thead th {\n",
       "        text-align: right;\n",
       "    }\n",
       "</style>\n",
       "<table border=\"1\" class=\"dataframe\">\n",
       "  <thead>\n",
       "    <tr style=\"text-align: right;\">\n",
       "      <th></th>\n",
       "      <th>Transaction_ID</th>\n",
       "      <th>Date</th>\n",
       "      <th>Customer_ID</th>\n",
       "      <th>Customer_Name</th>\n",
       "      <th>Region</th>\n",
       "      <th>Product_Category</th>\n",
       "      <th>Product_Name</th>\n",
       "      <th>Quantity_Sold</th>\n",
       "      <th>Price_per_Unit</th>\n",
       "      <th>Discount</th>\n",
       "      <th>Total_Sales</th>\n",
       "      <th>Day</th>\n",
       "      <th>Month</th>\n",
       "      <th>Year</th>\n",
       "    </tr>\n",
       "  </thead>\n",
       "  <tbody>\n",
       "    <tr>\n",
       "      <th>0</th>\n",
       "      <td>60e11d78-e5fd-4d16-958c-6075b427e30a</td>\n",
       "      <td>2024-04-17</td>\n",
       "      <td>6227</td>\n",
       "      <td>Todd Baker</td>\n",
       "      <td>East</td>\n",
       "      <td>Furniture</td>\n",
       "      <td>Shirt</td>\n",
       "      <td>7</td>\n",
       "      <td>88.38</td>\n",
       "      <td>0.21</td>\n",
       "      <td>488.74</td>\n",
       "      <td>17</td>\n",
       "      <td>4</td>\n",
       "      <td>2024</td>\n",
       "    </tr>\n",
       "    <tr>\n",
       "      <th>1</th>\n",
       "      <td>b89fda99-8efa-428c-925c-6f1d56b99ada</td>\n",
       "      <td>2024-08-28</td>\n",
       "      <td>1375</td>\n",
       "      <td>Stephanie Jones</td>\n",
       "      <td>East</td>\n",
       "      <td>Electronics</td>\n",
       "      <td>Shirt</td>\n",
       "      <td>9</td>\n",
       "      <td>468.42</td>\n",
       "      <td>0.33</td>\n",
       "      <td>2824.57</td>\n",
       "      <td>28</td>\n",
       "      <td>8</td>\n",
       "      <td>2024</td>\n",
       "    </tr>\n",
       "    <tr>\n",
       "      <th>2</th>\n",
       "      <td>d091961f-f91b-43ec-8b4f-bcbec6f93805</td>\n",
       "      <td>2023-10-21</td>\n",
       "      <td>8741</td>\n",
       "      <td>Jessica Carroll</td>\n",
       "      <td>North</td>\n",
       "      <td>Books</td>\n",
       "      <td>Sofa</td>\n",
       "      <td>3</td>\n",
       "      <td>364.51</td>\n",
       "      <td>0.07</td>\n",
       "      <td>1016.98</td>\n",
       "      <td>21</td>\n",
       "      <td>10</td>\n",
       "      <td>2023</td>\n",
       "    </tr>\n",
       "    <tr>\n",
       "      <th>3</th>\n",
       "      <td>75d86d40-663e-49c5-8ef9-f2b37012d396</td>\n",
       "      <td>2024-09-15</td>\n",
       "      <td>8348</td>\n",
       "      <td>Amy Bryan</td>\n",
       "      <td>North</td>\n",
       "      <td>Clothing</td>\n",
       "      <td>Novel</td>\n",
       "      <td>9</td>\n",
       "      <td>307.59</td>\n",
       "      <td>0.38</td>\n",
       "      <td>1716.35</td>\n",
       "      <td>15</td>\n",
       "      <td>9</td>\n",
       "      <td>2024</td>\n",
       "    </tr>\n",
       "    <tr>\n",
       "      <th>4</th>\n",
       "      <td>159d8ab4-7267-4b58-a8e5-83f1405c1eda</td>\n",
       "      <td>2023-04-03</td>\n",
       "      <td>5800</td>\n",
       "      <td>Eric Jenkins</td>\n",
       "      <td>South</td>\n",
       "      <td>Clothing</td>\n",
       "      <td>Novel</td>\n",
       "      <td>5</td>\n",
       "      <td>391.78</td>\n",
       "      <td>0.16</td>\n",
       "      <td>1645.48</td>\n",
       "      <td>3</td>\n",
       "      <td>4</td>\n",
       "      <td>2023</td>\n",
       "    </tr>\n",
       "  </tbody>\n",
       "</table>\n",
       "</div>"
      ],
      "text/plain": [
       "                         Transaction_ID        Date  Customer_ID  \\\n",
       "0  60e11d78-e5fd-4d16-958c-6075b427e30a  2024-04-17         6227   \n",
       "1  b89fda99-8efa-428c-925c-6f1d56b99ada  2024-08-28         1375   \n",
       "2  d091961f-f91b-43ec-8b4f-bcbec6f93805  2023-10-21         8741   \n",
       "3  75d86d40-663e-49c5-8ef9-f2b37012d396  2024-09-15         8348   \n",
       "4  159d8ab4-7267-4b58-a8e5-83f1405c1eda  2023-04-03         5800   \n",
       "\n",
       "     Customer_Name Region Product_Category Product_Name  Quantity_Sold  \\\n",
       "0       Todd Baker   East        Furniture        Shirt              7   \n",
       "1  Stephanie Jones   East      Electronics        Shirt              9   \n",
       "2  Jessica Carroll  North            Books         Sofa              3   \n",
       "3        Amy Bryan  North         Clothing        Novel              9   \n",
       "4     Eric Jenkins  South         Clothing        Novel              5   \n",
       "\n",
       "   Price_per_Unit  Discount  Total_Sales  Day  Month  Year  \n",
       "0           88.38      0.21       488.74   17      4  2024  \n",
       "1          468.42      0.33      2824.57   28      8  2024  \n",
       "2          364.51      0.07      1016.98   21     10  2023  \n",
       "3          307.59      0.38      1716.35   15      9  2024  \n",
       "4          391.78      0.16      1645.48    3      4  2023  "
      ]
     },
     "execution_count": 56,
     "metadata": {},
     "output_type": "execute_result"
    }
   ],
   "source": [
    "df.head()"
   ]
  },
  {
   "cell_type": "code",
   "execution_count": 57,
   "metadata": {},
   "outputs": [
    {
     "data": {
      "text/html": [
       "<div>\n",
       "<style scoped>\n",
       "    .dataframe tbody tr th:only-of-type {\n",
       "        vertical-align: middle;\n",
       "    }\n",
       "\n",
       "    .dataframe tbody tr th {\n",
       "        vertical-align: top;\n",
       "    }\n",
       "\n",
       "    .dataframe thead th {\n",
       "        text-align: right;\n",
       "    }\n",
       "</style>\n",
       "<table border=\"1\" class=\"dataframe\">\n",
       "  <thead>\n",
       "    <tr style=\"text-align: right;\">\n",
       "      <th></th>\n",
       "      <th>Product_Name</th>\n",
       "      <th>profit</th>\n",
       "    </tr>\n",
       "  </thead>\n",
       "  <tbody>\n",
       "    <tr>\n",
       "      <th>0</th>\n",
       "      <td>Doll</td>\n",
       "      <td>910226.4140</td>\n",
       "    </tr>\n",
       "    <tr>\n",
       "      <th>1</th>\n",
       "      <td>Laptop</td>\n",
       "      <td>917296.1829</td>\n",
       "    </tr>\n",
       "    <tr>\n",
       "      <th>2</th>\n",
       "      <td>Novel</td>\n",
       "      <td>941953.8541</td>\n",
       "    </tr>\n",
       "    <tr>\n",
       "      <th>3</th>\n",
       "      <td>Shirt</td>\n",
       "      <td>912896.2787</td>\n",
       "    </tr>\n",
       "    <tr>\n",
       "      <th>4</th>\n",
       "      <td>Sofa</td>\n",
       "      <td>908088.9045</td>\n",
       "    </tr>\n",
       "  </tbody>\n",
       "</table>\n",
       "</div>"
      ],
      "text/plain": [
       "  Product_Name       profit\n",
       "0         Doll  910226.4140\n",
       "1       Laptop  917296.1829\n",
       "2        Novel  941953.8541\n",
       "3        Shirt  912896.2787\n",
       "4         Sofa  908088.9045"
      ]
     },
     "execution_count": 57,
     "metadata": {},
     "output_type": "execute_result"
    }
   ],
   "source": [
    "# Needs to add profit column to visualize profit over product and it's category\n",
    "df['profit'] = df.Discount*df.Total_Sales\n",
    "df.head()\n",
    "profit = df['profit']\n",
    "Profit = df.groupby('Product_Name')['profit'].sum().reset_index()\n",
    "Profit"
   ]
  },
  {
   "cell_type": "code",
   "execution_count": 58,
   "metadata": {},
   "outputs": [
    {
     "name": "stderr",
     "output_type": "stream",
     "text": [
      "C:\\Users\\hp\\AppData\\Local\\Temp\\ipykernel_18568\\3746654656.py:2: FutureWarning: \n",
      "\n",
      "Passing `palette` without assigning `hue` is deprecated and will be removed in v0.14.0. Assign the `x` variable to `hue` and set `legend=False` for the same effect.\n",
      "\n",
      "  sns.barplot(y = 'profit', x = 'Product_Name', data = Profit, palette='viridis')\n"
     ]
    },
    {
     "data": {
      "image/png": "[encoded data removed]",
      "text/plain": [
       "<Figure size 1000x600 with 1 Axes>"
      ]
     },
     "metadata": {},
     "output_type": "display_data"
    }
   ],
   "source": [
    "plt.figure(figsize=(10,6))\n",
    "sns.barplot(y = 'profit', x = 'Product_Name', data = Profit, palette='viridis')\n",
    "plt.title(\"Total Profit by Product\", fontsize=16)\n",
    "plt.xlabel(\"Product_Name\", fontsize=12)\n",
    "plt.ylabel(\"Profit\", fontsize=12)\n",
    "#plt.grid()\n",
    "plt.show()"
   ]
  },
  {
   "cell_type": "code",
   "execution_count": 59,
   "metadata": {},
   "outputs": [
    {
     "data": {
      "text/html": [
       "<div>\n",
       "<style scoped>\n",
       "    .dataframe tbody tr th:only-of-type {\n",
       "        vertical-align: middle;\n",
       "    }\n",
       "\n",
       "    .dataframe tbody tr th {\n",
       "        vertical-align: top;\n",
       "    }\n",
       "\n",
       "    .dataframe thead th {\n",
       "        text-align: right;\n",
       "    }\n",
       "</style>\n",
       "<table border=\"1\" class=\"dataframe\">\n",
       "  <thead>\n",
       "    <tr style=\"text-align: right;\">\n",
       "      <th></th>\n",
       "      <th>Product_Category</th>\n",
       "      <th>profit</th>\n",
       "    </tr>\n",
       "  </thead>\n",
       "  <tbody>\n",
       "    <tr>\n",
       "      <th>0</th>\n",
       "      <td>Books</td>\n",
       "      <td>932572.1652</td>\n",
       "    </tr>\n",
       "    <tr>\n",
       "      <th>1</th>\n",
       "      <td>Clothing</td>\n",
       "      <td>917037.6264</td>\n",
       "    </tr>\n",
       "    <tr>\n",
       "      <th>2</th>\n",
       "      <td>Electronics</td>\n",
       "      <td>908833.0217</td>\n",
       "    </tr>\n",
       "    <tr>\n",
       "      <th>3</th>\n",
       "      <td>Furniture</td>\n",
       "      <td>922768.2042</td>\n",
       "    </tr>\n",
       "    <tr>\n",
       "      <th>4</th>\n",
       "      <td>Toys</td>\n",
       "      <td>909250.6167</td>\n",
       "    </tr>\n",
       "  </tbody>\n",
       "</table>\n",
       "</div>"
      ],
      "text/plain": [
       "  Product_Category       profit\n",
       "0            Books  932572.1652\n",
       "1         Clothing  917037.6264\n",
       "2      Electronics  908833.0217\n",
       "3        Furniture  922768.2042\n",
       "4             Toys  909250.6167"
      ]
     },
     "execution_count": 59,
     "metadata": {},
     "output_type": "execute_result"
    }
   ],
   "source": [
    "profit_category = df.groupby('Product_Category')['profit'].sum().reset_index()\n",
    "profit_category"
   ]
  },
  {
   "cell_type": "code",
   "execution_count": 60,
   "metadata": {},
   "outputs": [
    {
     "name": "stderr",
     "output_type": "stream",
     "text": [
      "C:\\Users\\hp\\AppData\\Local\\Temp\\ipykernel_18568\\767620369.py:2: UserWarning: Ignoring `palette` because no `hue` variable has been assigned.\n",
      "  sns.lineplot(y = 'profit', x = 'Product_Category', data = profit_category, palette='viridis')\n"
     ]
    },
    {
     "data": {
      "text/plain": [
       "Text(0, 0.5, 'Profit')"
      ]
     },
     "execution_count": 60,
     "metadata": {},
     "output_type": "execute_result"
    },
    {
     "data": {
      "image/png": "[encoded data removed]",
      "text/plain": [
       "<Figure size 1000x600 with 1 Axes>"
      ]
     },
     "metadata": {},
     "output_type": "display_data"
    }
   ],
   "source": [
    "plt.figure(figsize=(10,6))\n",
    "sns.lineplot(y = 'profit', x = 'Product_Category', data = profit_category, palette='viridis')\n",
    "plt.title(\"Total Profit by Product\", fontsize=16)\n",
    "plt.xlabel(\"Product_Name\", fontsize=12)\n",
    "plt.ylabel(\"Profit\", fontsize=12)\n",
    "#plt.grid()"
   ]
  },
  {
   "cell_type": "code",
   "execution_count": 61,
   "metadata": {},
   "outputs": [
    {
     "data": {
      "text/html": [
       "<div>\n",
       "<style scoped>\n",
       "    .dataframe tbody tr th:only-of-type {\n",
       "        vertical-align: middle;\n",
       "    }\n",
       "\n",
       "    .dataframe tbody tr th {\n",
       "        vertical-align: top;\n",
       "    }\n",
       "\n",
       "    .dataframe thead th {\n",
       "        text-align: right;\n",
       "    }\n",
       "</style>\n",
       "<table border=\"1\" class=\"dataframe\">\n",
       "  <thead>\n",
       "    <tr style=\"text-align: right;\">\n",
       "      <th></th>\n",
       "      <th>Region</th>\n",
       "      <th>profit</th>\n",
       "    </tr>\n",
       "  </thead>\n",
       "  <tbody>\n",
       "    <tr>\n",
       "      <th>0</th>\n",
       "      <td>East</td>\n",
       "      <td>1.168584e+06</td>\n",
       "    </tr>\n",
       "    <tr>\n",
       "      <th>1</th>\n",
       "      <td>North</td>\n",
       "      <td>1.131775e+06</td>\n",
       "    </tr>\n",
       "    <tr>\n",
       "      <th>2</th>\n",
       "      <td>South</td>\n",
       "      <td>1.133999e+06</td>\n",
       "    </tr>\n",
       "    <tr>\n",
       "      <th>3</th>\n",
       "      <td>West</td>\n",
       "      <td>1.156103e+06</td>\n",
       "    </tr>\n",
       "  </tbody>\n",
       "</table>\n",
       "</div>"
      ],
      "text/plain": [
       "  Region        profit\n",
       "0   East  1.168584e+06\n",
       "1  North  1.131775e+06\n",
       "2  South  1.133999e+06\n",
       "3   West  1.156103e+06"
      ]
     },
     "execution_count": 61,
     "metadata": {},
     "output_type": "execute_result"
    }
   ],
   "source": [
    "profit_region = df.groupby('Region')['profit'].sum().reset_index()\n",
    "profit_region"
   ]
  },
  {
   "cell_type": "code",
   "execution_count": 62,
   "metadata": {},
   "outputs": [
    {
     "data": {
      "image/png": "[encoded data removed]",
      "text/plain": [
       "<Figure size 1000x600 with 1 Axes>"
      ]
     },
     "metadata": {},
     "output_type": "display_data"
    }
   ],
   "source": [
    "#How discount is being distributed\n",
    "\n",
    "plt.figure(figsize=(10,6))\n",
    "sns.lineplot(x = 'Region', y = 'profit', data = profit_region)\n",
    "plt.title(\"Profit by Regions\", fontsize=16)\n",
    "plt.xlabel(\"Regions\", fontsize=12)\n",
    "plt.ylabel(\"FProfit\", fontsize=12)\n",
    "plt.show()"
   ]
  },
  {
   "cell_type": "markdown",
   "metadata": {},
   "source": []
  }
 ],
 "metadata": {
  "kernelspec": {
   "display_name": "myenv",
   "language": "python",
   "name": "python3"
  },
  "language_info": {
   "codemirror_mode": {
    "name": "ipython",
    "version": 3
   },
   "file_extension": ".py",
   "mimetype": "text/x-python",
   "name": "python",
   "nbconvert_exporter": "python",
   "pygments_lexer": "ipython3",
   "version": "3.13.1"
  }
 },
 "nbformat": 4,
 "nbformat_minor": 2
}
